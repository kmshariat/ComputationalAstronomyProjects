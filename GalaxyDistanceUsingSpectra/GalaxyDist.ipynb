{
 "cells": [
  {
   "cell_type": "markdown",
   "metadata": {},
   "source": [
    "<h1 align = 'center'> Measuring Galaxy Distance Using Spectra Data </h1>\n",
    "<h4 align = 'center'>Computational Astronomy Series, Episode 1 </h4> "
   ]
  },
  {
   "cell_type": "markdown",
   "metadata": {},
   "source": [
    "<p align = 'center'> Author: K M Shariat Ullah <br> Student, Dept. of Electrical and Electronic Engineering, <br> Shahjalal University of Science and Technology, Sylhet, <br> E-mail: cast.shariat@gmail.com</p>"
   ]
  },
  {
   "cell_type": "markdown",
   "metadata": {},
   "source": [
    "#### Catalog\n",
    "\n",
    "We can see many twinkling objects in the night sky. But all of these objects aren't stars. Only if we have enough dark place for observation and a light pollutionless sky, we can see nebulas too. Some of these bright looking objects are comets or can be perhaps asteroid. In 1771, french astronomer Charles Messier catalogued 103 objects in the night sky that look diffused but are not comets. At that time we didn't know that galaxies exist other than our own galaxy, the Milkyway. Messier confused these diffused objects as nebulas. This catalogue is called the Messier catalogue with 103 objects. The objects have id with initials `M`. For example `M 45` means the 45th object in the Messier Catalogue. After that many catalogues with more objects and more information were made. For example we have the New General Catalogue of galaxies and cluster of stars. The objects in this catalogue have id with initials `NGC`. In this notebook we will be working with `NGC 1068`, a galaxy at 14.4 Mpc distance from us.  "
   ]
  },
  {
   "cell_type": "markdown",
   "metadata": {},
   "source": [
    "#### Hubble's Universe\n",
    "\n",
    "Previously we used to think that the universe is static. But then Edwin Hubble comes and with his brilliant observation shows that the universe is not static. Instead the universe is expanding. He saw that the galaxies around us were going away from us. The more distant the galaxy, the more fast it was going away from us. Thus came Hubble's famous formula\n",
    "\n",
    "$$v = H_0 d \\tag{1}$$\n",
    "\n",
    "where $v$ is the velocity of the moving galaxy, $d$ is the distance of the galaxy from the observer and $H_0$ is the Hubble's constant which is almost equal to $72  \\text{(km/s)/MPc}$ \n"
   ]
  },
  {
   "cell_type": "markdown",
   "metadata": {},
   "source": [
    "#### Spectroscopy\n",
    "\n",
    "But how did Hubble knew that the galaxy that he was looking were all moving? The answer is he saw Doppler effect in the spectra of those galaxies. We know that light comes from an object to the observer in a continuous spectrum namely the optical spectrum (VIBGYOR). But if this light passes through some object (say a moleculer cloud of Hydrogen) some certain part of the spectrum will be absorved and make black lines. These lines are called absorption lines. If a luminous object is emitting light and the light passes through a molecular cloud made of Hydrogen then we will see these black absorption lines at wavelenght $ \\lambda_{H\\alpha} = 6562.8 {\\AA} $ and $ \\lambda_{H\\beta} = 4861  {\\AA} $\n",
    "\n",
    "<figure>\n",
    "    <img src = 'AbsorptionSpectrum.jpg' align = 'center' width = 90%> \n",
    "    <figcaption>When light passes through a molecular cloud, some of it's spectrum is absorbed by the cloud at different wavelengths and thus black lines are created. Credit: NASA, ESA, and L. Hustak (STScI).</figcaption>\n",
    "</figure>\n",
    "\n",
    "But when Edwin Hubble saw these galaxies which by the way were abundant with Atomic Hydrogens, did not have these black lines at $6562.8 {\\AA}$ and $4861  {\\AA}$, instead these two lines were little bit shifted to the right. Hubble stated from this observation that these wavelenghts are `Red Shifted` and that can only be possible if and only if the objects are moving away from us. This comes from the principle of the Doppler Effect. \n",
    "\n",
    "Using Doppler effect, we have the Red shift quantity \n",
    "\n",
    "$$z = \\frac{v}{c} \\tag{2}$$\n",
    "\n",
    "where $v$ is the velocity of the object and $c$ is light's velocity. If the galaxy's velocity is $60%$ or more than the speed of light, then we have to use the relativistic formula as below:\n",
    "\n",
    "$$z = \\sqrt{\\frac{1+v/c}{1-v/c}} -1 \\tag{3}$$\n",
    "\n",
    "To determine the Redshift value we have the following formula:\n",
    "\n",
    "$$ z = \\frac{\\lambda_{\\text{obs}}-\\lambda_{\\text{src}}}{\\lambda_{\\text{src}}}$$\n",
    "\n",
    "where $\\lambda_{\\text{obs}}$ is the wavelength at which we are observing the absorption line and $\\lambda_{\\text{src}}$ is the wavelenght at which the absorption line should be. "
   ]
  },
  {
   "cell_type": "markdown",
   "metadata": {},
   "source": [
    "#### Calculating NGC 1068's Distance"
   ]
  },
  {
   "cell_type": "markdown",
   "metadata": {},
   "source": [
    "We will calculate NGC 1068's distance using it's spectra. To get the object's spectra we will go to <a href = 'https://ned.ipac.caltech.edu/'>NASA/IPAC Extragalactic Database</a> and search NGC 1068 in the search bar. After a moment, you'll see an interface shown as below. Click the `Spectra` tab and you'll have some datasets for spectra. We will need to select a suitable dataset of spectra for our work. As we will be working using the Hydrogen Alpha line ($6562.8 {\\AA}$) it's wavelenght must be in the range of the spectra. You can check the range of each dataset in the information box (Red Box with Label From: and To:). After choosing the suitable dataset for your work click on the `NED-ASCII` link. It will open/download the database in txt format. Open and excel file and import the data of that text file and clean the dataset. We will be only working with `Published-Value` and `Spectral-axis` and `Intensity` data. Remove every other info and save the file as a csv file.\n",
    "\n",
    "<figure>\n",
    "    <img src = 'SpectraInfo.png' width = 90%>\n",
    "    <figcaption>NASA/IPAC Extragalactic Database have a large number of observation of spectra for different objects</figcaption>\n",
    "</figure>"
   ]
  },
  {
   "cell_type": "code",
   "execution_count": 1,
   "metadata": {},
   "outputs": [],
   "source": [
    "import numpy as np\n",
    "import matplotlib.pyplot as plt\n",
    "import pandas as pd\n",
    "from scipy.signal import find_peaks"
   ]
  },
  {
   "cell_type": "markdown",
   "metadata": {},
   "source": [
    "We have saved the cleaned spectral data as `data.csv`. As the $H\\alpha$ line will be between 6500 and 7000 we can slice the whole spectrum and work with only that portion."
   ]
  },
  {
   "cell_type": "code",
   "execution_count": 6,
   "metadata": {},
   "outputs": [],
   "source": [
    "data = pd.read_csv('data.csv')  # NGC 1068 Data\n",
    "x = data.wavelength[1000:1190]  # slicing\n",
    "y = data.Intensity[1000:1190]   # slicing"
   ]
  },
  {
   "cell_type": "code",
   "execution_count": 7,
   "metadata": {},
   "outputs": [
    {
     "data": {
      "image/png": "[encoded data removed]",
      "text/plain": [
       "<Figure size 640x480 with 1 Axes>"
      ]
     },
     "metadata": {},
     "output_type": "display_data"
    }
   ],
   "source": [
    "plt.plot(x,y)                   # plotting\n",
    "plt.grid()                      \n",
    "plt.show()"
   ]
  },
  {
   "cell_type": "markdown",
   "metadata": {},
   "source": [
    "The python package `Scipy` has a `find_peaks` function. If you input a dataset in the function, it will return all the peak's indices. We will input our spectrum's dataset in the function and find at which index does the $H\\alpha$ line lies."
   ]
  },
  {
   "cell_type": "code",
   "execution_count": 9,
   "metadata": {},
   "outputs": [
    {
     "name": "stdout",
     "output_type": "stream",
     "text": [
      "x: 6434.34 --> y: 1.32e-14\n",
      "x: 6453.59 --> y: 1.39e-14\n",
      "x: 6459.09 --> y: 1.4e-14\n",
      "x: 6470.09 --> y: 1.38e-14\n",
      "x: 6486.59 --> y: 1.35e-14\n",
      "x: 6503.09 --> y: 1.37e-14\n",
      "x: 6514.09 --> y: 1.3e-14\n",
      "x: 6604.84 --> y: 1.47e-13\n",
      "x: 6668.09 --> y: 1.29e-14\n",
      "x: 6676.34 --> y: 1.28e-14\n",
      "x: 6698.34 --> y: 1.33e-14\n",
      "x: 6709.34 --> y: 1.38e-14\n",
      "x: 6750.59 --> y: 3.27e-14\n",
      "x: 6794.59 --> y: 1.23e-14\n",
      "x: 6808.34 --> y: 1.25e-14\n",
      "x: 6822.09 --> y: 1.19e-14\n",
      "x: 6830.34 --> y: 1.19e-14\n",
      "x: 6838.59 --> y: 1.2e-14\n",
      "x: 6849.59 --> y: 1.2e-14\n",
      "x: 6857.84 --> y: 1.19e-14\n",
      "x: 6888.09 --> y: 1.06e-14\n",
      "x: 6893.59 --> y: 1.06e-14\n",
      "x: 6907.34 --> y: 1.08e-14\n",
      "x: 6918.34 --> y: 1.13e-14\n",
      "x: 6926.59 --> y: 1.16e-14\n",
      "x: 6937.59 --> y: 1.13e-14\n"
     ]
    }
   ],
   "source": [
    "peak = find_peaks(y)                \n",
    "\n",
    "for i in range(len(peak[0])):\n",
    "    print(f\"x: {x[1000+peak[0][i]]} --> y: {y[1000+peak[0][i]]}\")"
   ]
  },
  {
   "cell_type": "markdown",
   "metadata": {},
   "source": [
    "From the plot and previous calculation we can see that the peak of the $H\\alpha$ line lies at $6604.84 {\\AA}$. This is our data for $\\lambda_{obs}$ and we know that $\\lambda_{src} = 6562.819 {\\AA}$. Now we can use previously stated formula to calculate $z$, then $v$ and at last the distance of the object $d$. "
   ]
  },
  {
   "cell_type": "code",
   "execution_count": 11,
   "metadata": {},
   "outputs": [
    {
     "name": "stdout",
     "output_type": "stream",
     "text": [
      "Redshift Value of NGC 1068: 0.006362152603242429\n",
      "Velocity of NGC 1068: 1908.6457809727287\n",
      "Distance of NGC 1068: 26.508969180176788\n",
      "Error: 84.09006375122769 %\n"
     ]
    }
   ],
   "source": [
    "# ----------------------------------\n",
    "#             constants\n",
    "# ----------------------------------\n",
    "\n",
    "c = 3e8                         # light velocity\n",
    "H_0 = 72                        # km/s / MPc\n",
    "\n",
    "# ----------------------------------\n",
    "#             values\n",
    "# ----------------------------------\n",
    "\n",
    "lemda_obs = 6604.84             # peak of 1.47e-13\n",
    "lemda_src = 6562.819            # H_alpha\n",
    "\n",
    "# red shift value\n",
    "z = (lemda_obs - lemda_src)/lemda_obs\n",
    "print(f\"Redshift Value of NGC 1068: {z}\")\n",
    "\n",
    "# velocity of the galaxy in km/s\n",
    "v = c * z / 1000\n",
    "print(f\"Velocity of NGC 1068: {v}\")\n",
    "\n",
    "# distance of the galaxy in MPc\n",
    "d_calc = v / H_0 \n",
    "print(f\"Distance of NGC 1068: {d_calc}\")\n",
    "\n",
    "# distance of the galaxy in literature in MPc\n",
    "d_act = 14.4 \n",
    "\n",
    "# error\n",
    "error = (d_calc-d_act) / d_act * 100\n",
    "print(f\"Error: {error} %\")"
   ]
  },
  {
   "cell_type": "markdown",
   "metadata": {},
   "source": [
    "#### Reference\n",
    "<ol>\n",
    "    <li> To know details about Spectroscopy, <a href='https://webbtelescope.org/contents/articles/spectroscopy-101--types-of-spectra-and-spectroscopy'>Spectroscopy 101 – Types of Spectra and Spectroscopy</a> </li>\n",
    "    <li> To know the formulation of red shift, <a href='https://www.as.utexas.edu/astronomy/education/spring98/evans_hmwk1a.html'>AST 324: HOMEWORK 1 ANSWERS </li>\n",
    "</ol>"
   ]
  }
 ],
 "metadata": {
  "kernelspec": {
   "display_name": "Python 3",
   "language": "python",
   "name": "python3"
  },
  "language_info": {
   "codemirror_mode": {
    "name": "ipython",
    "version": 3
   },
   "file_extension": ".py",
   "mimetype": "text/x-python",
   "name": "python",
   "nbconvert_exporter": "python",
   "pygments_lexer": "ipython3",
   "version": "3.12.2"
  }
 },
 "nbformat": 4,
 "nbformat_minor": 2
}
